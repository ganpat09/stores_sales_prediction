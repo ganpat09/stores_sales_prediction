{
 "cells": [
  {
   "cell_type": "code",
   "execution_count": 1,
   "metadata": {},
   "outputs": [],
   "source": [
    "import pandas as pd \n",
    "import numpy as np\n",
    "from pathlib import Path\n",
    "from dataclasses import dataclass\n"
   ]
  },
  {
   "cell_type": "code",
   "execution_count": 2,
   "metadata": {},
   "outputs": [],
   "source": [
    "import os\n",
    "os.chdir('../')\n",
    "\n"
   ]
  },
  {
   "cell_type": "code",
   "execution_count": 3,
   "metadata": {},
   "outputs": [],
   "source": [
    "from saleStorePredictor.entity import DataIngestionArtifact\n",
    "dataIngestionArtifact = DataIngestionArtifact(\"artifacts\\data_ingestion\\ingested_train_dir\\Train.csv\",\"artifacts\\data_ingestion\\ingested_test_dir\\Test.csv\")\n",
    "\n",
    "import pandas  as pd\n",
    "from saleStorePredictor.utils import read_yaml\n",
    "import os\n",
    "from saleStorePredictor.entity import DataValidationConfig\n",
    "from saleStorePredictor.config import ConfigurationManager\n",
    "\n",
    "class DataValidation:\n",
    "\n",
    "    def __init__(self,data_validation_config:DataValidationConfig):\n",
    "        self.data_validation_config = data_validation_config\n",
    "        self.train = pd.read_csv(self.data_validation_config.training_dataset)\n",
    "        self.test = pd.read_csv(self.data_validation_config.test_dataset)\n",
    "\n",
    "    def validate_schema(self):\n",
    "       \n",
    "        schema_path = self.data_validation_config.schema_path\n",
    "\n",
    "        if  os.path.exists(schema_path):\n",
    "                schema = read_yaml(Path(schema_path))                \n",
    "                cols = schema.columns.keys()\n",
    "\n",
    "                for c in self.train.columns:\n",
    "                    if c not in cols:\n",
    "                        return False\n",
    "\n",
    "                for c in self.test.columns:\n",
    "                    if c not in cols:\n",
    "                        return False \n",
    "\n",
    "                return True               \n",
    "\n",
    "    \n",
    "\n",
    "    def remove_duplicates(self):\n",
    "        self.train = self.train.drop_duplicates()\n",
    "        self.test = self.test.drop_duplicates()\n",
    "        self.train.to_csv(self.data_validation_config.training_dataset)\n",
    "        self.test.to_csv(self.data_validation_config.test_dataset)\n",
    "        print(\"succefully remove duplicated\")\n",
    "        \n",
    "\n",
    "    \n",
    "\n",
    "    \n",
    "\n",
    "\n",
    "\n",
    "\n",
    "\n",
    "        \n",
    "\n",
    "\n",
    "        "
   ]
  },
  {
   "cell_type": "code",
   "execution_count": 4,
   "metadata": {},
   "outputs": [
    {
     "name": "stdout",
     "output_type": "stream",
     "text": [
      "[2022-09-21 20:41:07,469: INFO: common]: yaml file: configs\\config.yaml loaded successfully\n",
      "[2022-09-21 20:41:07,472: INFO: common]: yaml file: params.yaml loaded successfully\n",
      "[2022-09-21 20:41:07,474: INFO: common]: created directory at: artifacts\n",
      "[2022-09-21 20:41:07,513: INFO: common]: yaml file: configs\\schema.yaml loaded successfully\n",
      "succefully remove duplicated\n"
     ]
    }
   ],
   "source": [
    "config_manager = ConfigurationManager()\n",
    "config = config_manager.get_data_validation_config()\n",
    "data_validation = DataValidation(config)\n",
    "data_validation.validate_schema()\n",
    "data_validation.remove_duplicates()\n"
   ]
  },
  {
   "cell_type": "code",
   "execution_count": null,
   "metadata": {},
   "outputs": [],
   "source": []
  }
 ],
 "metadata": {
  "kernelspec": {
   "display_name": "Python 3.8.13",
   "language": "python",
   "name": "python3"
  },
  "language_info": {
   "codemirror_mode": {
    "name": "ipython",
    "version": 3
   },
   "file_extension": ".py",
   "mimetype": "text/x-python",
   "name": "python",
   "nbconvert_exporter": "python",
   "pygments_lexer": "ipython3",
   "version": "3.8.13"
  },
  "orig_nbformat": 4,
  "vscode": {
   "interpreter": {
    "hash": "9cbb0b948f33c3107f482a8001e5ae7cac736ef069ea6ca766c7281b6fed019f"
   }
  }
 },
 "nbformat": 4,
 "nbformat_minor": 2
}
